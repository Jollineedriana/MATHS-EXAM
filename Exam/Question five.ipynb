{
 "cells": [
  {
   "cell_type": "code",
   "execution_count": 1,
   "metadata": {},
   "outputs": [],
   "source": [
    "import numpy as np"
   ]
  },
  {
   "cell_type": "code",
   "execution_count": 7,
   "metadata": {},
   "outputs": [
    {
     "name": "stdout",
     "output_type": "stream",
     "text": [
      "Solution:\n",
      "x = -1.3333333333333335\n",
      "y = 2.0476190476190474\n",
      "z = 2.4761904761904763\n"
     ]
    }
   ],
   "source": [
    "#solving three linear equations\n",
    "\n",
    "def solve_linear_system(coefficients, constants):\n",
    "    # Create matrices A and B\n",
    "    A = np.array(coefficients)\n",
    "    B = np.array(constants)\n",
    "\n",
    "    # Solve for X in AX = B\n",
    "    X = np.linalg.solve(A, B)\n",
    "\n",
    "    return X\n",
    "\n",
    "# Example system of equations:\n",
    "# 2x + 3y - z = 1\n",
    "# 4x - 2y + 3z = -2\n",
    "# 3x + y + 2z = 3\n",
    "\n",
    "coefficients = [[2, 3, -1],\n",
    "                [4, -2, 3],\n",
    "                [3, 1, 2]]\n",
    "\n",
    "constants = [1, -2, 3]\n",
    "\n",
    "solution = solve_linear_system(coefficients, constants)\n",
    "\n",
    "print(\"Solution:\")\n",
    "print(\"x =\", solution[0])\n",
    "print(\"y =\", solution[1])\n",
    "print(\"z =\", solution[2])"
   ]
  }
 ],
 "metadata": {
  "kernelspec": {
   "display_name": "Python 3",
   "language": "python",
   "name": "python3"
  },
  "language_info": {
   "codemirror_mode": {
    "name": "ipython",
    "version": 3
   },
   "file_extension": ".py",
   "mimetype": "text/x-python",
   "name": "python",
   "nbconvert_exporter": "python",
   "pygments_lexer": "ipython3",
   "version": "3.12.0"
  }
 },
 "nbformat": 4,
 "nbformat_minor": 2
}
